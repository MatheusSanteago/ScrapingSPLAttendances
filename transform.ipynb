{
 "cells": [
  {
   "cell_type": "code",
   "execution_count": null,
   "metadata": {},
   "outputs": [],
   "source": [
    "import pandas as pd\n",
    "import re"
   ]
  },
  {
   "cell_type": "code",
   "execution_count": null,
   "metadata": {},
   "outputs": [],
   "source": [
    "leagues_prefixs = [\"SA1\", \"SA2L\"]\n",
    "clubs_list = []\n",
    "champions_list = []"
   ]
  },
  {
   "cell_type": "code",
   "execution_count": null,
   "metadata": {},
   "outputs": [],
   "source": [
    "def attendances_tranform():\n",
    "  df_f = pd.read_csv(\"./RAW/ArabicSoccer/Attendances/Arabic_Attendances_2007_2023.csv\")\n",
    "\n",
    "  df = df_f[df_f['#'] >= 1]\n",
    "  df = df[[\"Stadium\", \"Capacity\", \"Spectators\", \"Average\", \"Matches\", \"sold out\", \"Club\", \"Year\"]]\n",
    "\n",
    "  pattern = \"\\B[ANH][Llab][-]?[a-zA-Z]+(?:-[a-zA-Z]+)?\\s?[SFClub]{1,4}\"\n",
    "    \n",
    "  for i in range(len(df)):\n",
    "      if \"Al-Ansar\" in df.iloc[i, 0]:\n",
    "        df.iloc[i, 6] = \"Al-Ansar\"\n",
    "        df.iloc[i, 0] = \"Prince Mohammed bin Abdul Aziz Stadium\"\n",
    "      elif \"Ohod Club\" in df.iloc[i, 0]:\n",
    "        df.iloc[i, 6] = \"Ohod Club\"\n",
    "        df.iloc[i, 0] = \"Prince Mohammed bin Abdul Aziz Stadium\" \n",
    "      elif \"Damac FC\" in df.iloc[i, 0]:\n",
    "        df.iloc[i, 6] = \"Damac FC\"\n",
    "        df.iloc[i, 0] = \"Damac Club Stadium\"\n",
    "      else:\n",
    "        df.iloc[i, 6] = re.findall(pattern=pattern, string=df.iloc[i, 0])[0]\n",
    "        df.iloc[i, 0] = re.sub(pattern=pattern, string=df.iloc[i, 0], repl=\"\")\n",
    "\n",
    "  df = df.reset_index()\n",
    "  df[\"index\"] = df.index + 1\n",
    "  df['Matches'] = pd.to_numeric(df['Matches'], downcast='integer', errors='coerce')\n",
    "  df = df.rename(columns={\"index\": \"id\"})\n",
    "  return df"
   ]
  },
  {
   "cell_type": "code",
   "execution_count": null,
   "metadata": {},
   "outputs": [],
   "source": [
    "def champions_list_transform(league):\n",
    "  for i in range(len(league)):\n",
    "    df = pd.read_csv(f\"./RAW/ArabicSoccer/Champions/{league[i]}_Champions.csv\")\n",
    "    df = df[[\"Season\",\"Club\", \"League\"]]\n",
    "    df.rename(columns={\"Club\": \"Clubs\"}, inplace=True)\n",
    "    if i == 2:\n",
    "      df = df[:15]\n",
    "      champions_list.append(df)\n",
    "    else:\n",
    "      df = df[:16]\n",
    "      champions_list.append(df)"
   ]
  },
  {
   "cell_type": "code",
   "execution_count": null,
   "metadata": {},
   "outputs": [],
   "source": [
    "def teams_transform():\n",
    "  for y in range(len(leagues_prefixs)):\n",
    "    df = pd.read_csv(f\"./RAW/ArabicSoccer/Teams/{leagues_prefixs[y]}_teams_2023.csv\")\n",
    "    df = df[[\"Club.1\", \"name\",\"Squad\", \"ø age\", \"Foreigners\", \"ø market value\", \"League\"]]\n",
    "    df.rename(columns={\"Club.1\": \"Clubs\", \"name\": \"Players\", \"Squad\":\"avg_age\", \"ø age\":\"Foreigners\", \"Foreigners\": \"market_value(€)\", \"ø market value\": \"total_market_value(€)\"}, inplace=True)\n",
    "\n",
    "    for i, row in df.iterrows():\n",
    "      df.iloc[i, 4] = re.sub(pattern='[€mkK]', string=row[\"market_value(€)\"], repl=\"\")\n",
    "      df.iloc[i, 5] = re.sub(pattern='[€mkK]', string=row[\"total_market_value(€)\"], repl=\"\")\n",
    "      \n",
    "    df = df[:-1]\n",
    "    df[\"id\"] = df.index + 1\n",
    "    df['\"Foreigners\"'] = pd.to_numeric(df[\"Foreigners\"], downcast='integer', errors='coerce')\n",
    "    df = df[[\"id\", \"Clubs\",\"Players\", \"avg_age\", \"Foreigners\", \"market_value(€)\", \"total_market_value(€)\", \"League\"]]\n",
    "    clubs_list.append(df)\n",
    "\n",
    "    if y == 2:\n",
    "      return \n"
   ]
  },
  {
   "cell_type": "code",
   "execution_count": null,
   "metadata": {},
   "outputs": [],
   "source": [
    "df_attendances = attendances_tranform()\n",
    "teams_transform()\n",
    "df_teams = pd.concat(clubs_list) \n",
    "champions_list_transform(leagues_prefixs)\n",
    "df_champions = pd.concat(champions_list)"
   ]
  },
  {
   "cell_type": "code",
   "execution_count": null,
   "metadata": {},
   "outputs": [],
   "source": [
    "df_attendances.to_csv(f\"./TRUSTED/ArabicSoccer/Attendances/Attendances_SPL_2007_2023.csv\", encoding='utf-8', index=False)\n",
    "df_teams.to_csv(f\"./TRUSTED/ArabicSoccer/Teams/Teams_Arabia.csv\", encoding='utf-8', index=False)\n",
    "df_champions.to_csv(f\"./TRUSTED/ArabicSoccer/Champions/Champions_Arabia_2007_2023.csv\", encoding='utf-8', index=False)"
   ]
  }
 ],
 "metadata": {
  "kernelspec": {
   "display_name": "Python 3",
   "language": "python",
   "name": "python3"
  },
  "language_info": {
   "codemirror_mode": {
    "name": "ipython",
    "version": 3
   },
   "file_extension": ".py",
   "mimetype": "text/x-python",
   "name": "python",
   "nbconvert_exporter": "python",
   "pygments_lexer": "ipython3",
   "version": "3.11.5"
  },
  "orig_nbformat": 4
 },
 "nbformat": 4,
 "nbformat_minor": 2
}
