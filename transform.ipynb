{
 "cells": [
  {
   "cell_type": "code",
   "execution_count": 86,
   "metadata": {},
   "outputs": [],
   "source": [
    "import pandas as pd\n",
    "import re"
   ]
  },
  {
   "cell_type": "markdown",
   "metadata": {},
   "source": [
    "Global variables\n"
   ]
  },
  {
   "cell_type": "code",
   "execution_count": 87,
   "metadata": {},
   "outputs": [],
   "source": [
    "leagues_prefixs = [\"SA1\", \"SA2L\"]\n",
    "clubs_list = []\n",
    "champions_list = []"
   ]
  },
  {
   "cell_type": "markdown",
   "metadata": {},
   "source": [
    "Transform functions\n"
   ]
  },
  {
   "cell_type": "code",
   "execution_count": 88,
   "metadata": {},
   "outputs": [],
   "source": [
    "# Function to transform attendences DataFrame\n",
    "\n",
    "def attendances_tranform():\n",
    "    df_f = pd.read_csv(\"./RAW/ArabicSoccer/Attendances/Arabic_Attendances_2007_2023.csv\")\n",
    "\n",
    "    # In column \"#\" where the value is NaN is duplicate row\n",
    "    # So I decide to remove using comparision \"['#'] >= 1\"\n",
    "    df = df_f[df_f['#'] >= 1]\n",
    "    \n",
    "    # Reorganize and select columns\n",
    "    df = df[[\"Stadium\", \"Capacity\", \"Spectators\",\n",
    "             \"Average\", \"Matches\", \"sold out\", \"Club\", \"Year\"]]\n",
    "\n",
    "    # Pattern to separate the stadium name do club name\n",
    "    pattern = \"\\B[ANH][Llab][-]?[a-zA-Z]+(?:-[a-zA-Z]+)?\\s?[SFClub]{1,4}\"\n",
    "\n",
    "    # I use these if's because I can't catch these words in my pattern\n",
    "    for i in range(len(df)):\n",
    "        if \"Al-Ansar\" in df.iloc[i, 0]:\n",
    "            df.iloc[i, 6] = \"Al-Ansar\"\n",
    "            df.iloc[i, 0] = \"Prince Mohammed bin Abdul Aziz Stadium\"\n",
    "        elif \"Ohod Club\" in df.iloc[i, 0]:\n",
    "            df.iloc[i, 6] = \"Ohod Club\"\n",
    "            df.iloc[i, 0] = \"Prince Mohammed bin Abdul Aziz Stadium\"\n",
    "        elif \"Damac FC\" in df.iloc[i, 0]:\n",
    "            df.iloc[i, 6] = \"Damac FC\"\n",
    "            df.iloc[i, 0] = \"Damac Club Stadium\"\n",
    "        else:\n",
    "            # In re.findall() I use regex to catch teams name\n",
    "            # King Abdullah Sports CityAl-Ittihad Club ----> ['Al-Ittihad Club']\n",
    "            df.iloc[i, 6] = re.findall(pattern=pattern, string=df.iloc[i, 0])[0]\n",
    "\n",
    "            # Using re.sub() I can replace the clubs names in String to \"\", leaving the line with just the name of the stadium\n",
    "            df.iloc[i, 0] = re.sub(pattern=pattern, string=df.iloc[i, 0], repl=\"\")\n",
    "\n",
    "    # Reset the index, since there was a change in the DataFrame rows.\n",
    "    df = df.reset_index()\n",
    "\n",
    "    # Create a id column\n",
    "    df[\"index\"] = df.index + 1\n",
    "    df = df.rename(columns={\"index\": \"id\"})\n",
    "\n",
    "    # Changing \"Matches\" column to Integer\n",
    "    df['Matches'] = pd.to_numeric( df['Matches'], downcast='integer', errors='coerce')\n",
    "\n",
    "    return df"
   ]
  },
  {
   "cell_type": "code",
   "execution_count": 89,
   "metadata": {},
   "outputs": [],
   "source": [
    "# Function to transform champions DataFrame\n",
    "\n",
    "def champions_list_transform():\n",
    "    for i in range(len(leagues_prefixs)):\n",
    "        df = pd.read_csv(f\"./RAW/ArabicSoccer/Champions/{leagues_prefixs[i]}_Champions.csv\")\n",
    "        df = df[[\"Season\", \"Club\", \"League\"]]\n",
    "        df.rename(columns={\"Club\": \"Clubs\"}, inplace=True)\n",
    "        df[\"id\"] = df.index + 1\n",
    "        df = df[[\"id\", \"Clubs\", \"League\", \"Season\"]]\n",
    "        # The loop is based in the arabic leagues\n",
    "        # The i == 1 correspond to the champions of SA1, and the i == 2 of SA2L. The delimiters are to capture all champions from each league from the 2007 to 2023\n",
    "        if i == 2:\n",
    "            df = df[:15]\n",
    "            champions_list.append(df)\n",
    "        else:\n",
    "            df = df[:16]\n",
    "            champions_list.append(df)"
   ]
  },
  {
   "cell_type": "code",
   "execution_count": 90,
   "metadata": {},
   "outputs": [],
   "source": [
    "# Function to transform teams DataFrames\n",
    "\n",
    "def teams_transform():\n",
    "    for y in range(len(leagues_prefixs)):\n",
    "        df = pd.read_csv(f\"./RAW/ArabicSoccer/Teams/{leagues_prefixs[y]}_teams_2023.csv\")\n",
    "        df = df[[\"Club.1\", \"name\", \"Squad\", \"ø age\",\"Foreigners\", \"ø market value\", \"League\"]]\n",
    "        \n",
    "        # Rename columns\n",
    "        df.rename(columns={\"Club.1\": \"Clubs\", \"name\": \"Players\", \"Squad\": \"avg_age\", \"ø age\": \"Foreigners\",\n",
    "                  \"Foreigners\": \"market_value(€)\", \"ø market value\": \"total_market_value(€)\"}, inplace=True)\n",
    "\n",
    "        # I used regex to replace special characters with empty strings, to transform into an integer later\n",
    "        for i, row in df.iterrows():\n",
    "            df.iloc[i, 4] = re.sub(pattern='[€mkK]', string=row[\"market_value(€)\"], repl=\"\")\n",
    "            df.iloc[i, 5] = re.sub(pattern='[€mkK]', string=row[\"total_market_value(€)\"], repl=\"\")\n",
    "\n",
    "        # Removes the last column, which is an aggregation of data, present in the original table\n",
    "        df = df[:-1]\n",
    "        df[\"id\"] = df.index + 1\n",
    "\n",
    "        # Changing columns dtypes\n",
    "        df[\"Foreigners\"] = pd.to_numeric(df[\"Foreigners\"], downcast='integer', errors='coerce')\n",
    "        df['market_value(€)'] = pd.to_numeric(df['market_value(€)'], downcast='float', errors='coerce')\n",
    "        df['total_market_value(€)'] = pd.to_numeric(df['total_market_value(€)'], downcast='float', errors='coerce')\n",
    "\n",
    "        # Round columns\n",
    "        df['market_value(€)'] = df['market_value(€)'].round()\n",
    "        df['total_market_value(€)'] = df['total_market_value(€)'].round()\n",
    "\n",
    "        # Change the columns order\n",
    "        df = df[[\"id\", \"Clubs\", \"Players\", \"avg_age\", \"Foreigners\",\"market_value(€)\", \"total_market_value(€)\", \"League\"]]\n",
    "\n",
    "        clubs_list.append(df)"
   ]
  },
  {
   "cell_type": "markdown",
   "metadata": {},
   "source": [
    "Performing the transformation"
   ]
  },
  {
   "cell_type": "code",
   "execution_count": 91,
   "metadata": {},
   "outputs": [],
   "source": [
    "df_attendances = attendances_tranform()\n",
    "\n",
    "teams_transform()\n",
    "df_teams = pd.concat(clubs_list)\n",
    "\n",
    "champions_list_transform()\n",
    "df_champions = pd.concat(champions_list)"
   ]
  },
  {
   "cell_type": "code",
   "execution_count": 92,
   "metadata": {},
   "outputs": [
    {
     "data": {
      "text/html": [
       "<div>\n",
       "<style scoped>\n",
       "    .dataframe tbody tr th:only-of-type {\n",
       "        vertical-align: middle;\n",
       "    }\n",
       "\n",
       "    .dataframe tbody tr th {\n",
       "        vertical-align: top;\n",
       "    }\n",
       "\n",
       "    .dataframe thead th {\n",
       "        text-align: right;\n",
       "    }\n",
       "</style>\n",
       "<table border=\"1\" class=\"dataframe\">\n",
       "  <thead>\n",
       "    <tr style=\"text-align: right;\">\n",
       "      <th></th>\n",
       "      <th>Season</th>\n",
       "      <th>wappen</th>\n",
       "      <th>Club</th>\n",
       "      <th>Club.1</th>\n",
       "      <th>Top coaches</th>\n",
       "      <th>League</th>\n",
       "    </tr>\n",
       "  </thead>\n",
       "  <tbody>\n",
       "    <tr>\n",
       "      <th>0</th>\n",
       "      <td>22/23</td>\n",
       "      <td>NaN</td>\n",
       "      <td>Al-Ittihad Club</td>\n",
       "      <td>Nuno Espírito Santo</td>\n",
       "      <td>NaN</td>\n",
       "      <td>Yelo League</td>\n",
       "    </tr>\n",
       "    <tr>\n",
       "      <th>1</th>\n",
       "      <td>21/22</td>\n",
       "      <td>NaN</td>\n",
       "      <td>Al-Hilal SFC</td>\n",
       "      <td>Ramón Díaz</td>\n",
       "      <td>NaN</td>\n",
       "      <td>Yelo League</td>\n",
       "    </tr>\n",
       "    <tr>\n",
       "      <th>2</th>\n",
       "      <td>20/21</td>\n",
       "      <td>NaN</td>\n",
       "      <td>Al-Hilal SFC</td>\n",
       "      <td>José Morais</td>\n",
       "      <td>NaN</td>\n",
       "      <td>Yelo League</td>\n",
       "    </tr>\n",
       "    <tr>\n",
       "      <th>3</th>\n",
       "      <td>19/20</td>\n",
       "      <td>NaN</td>\n",
       "      <td>Al-Hilal SFC</td>\n",
       "      <td>Razvan Lucescu</td>\n",
       "      <td>NaN</td>\n",
       "      <td>Yelo League</td>\n",
       "    </tr>\n",
       "    <tr>\n",
       "      <th>4</th>\n",
       "      <td>18/19</td>\n",
       "      <td>NaN</td>\n",
       "      <td>Al-Nassr FC</td>\n",
       "      <td>Rui Vitória</td>\n",
       "      <td>NaN</td>\n",
       "      <td>Yelo League</td>\n",
       "    </tr>\n",
       "  </tbody>\n",
       "</table>\n",
       "</div>"
      ],
      "text/plain": [
       "  Season  wappen             Club               Club.1  Top coaches  \\\n",
       "0  22/23     NaN  Al-Ittihad Club  Nuno Espírito Santo          NaN   \n",
       "1  21/22     NaN     Al-Hilal SFC           Ramón Díaz          NaN   \n",
       "2  20/21     NaN     Al-Hilal SFC          José Morais          NaN   \n",
       "3  19/20     NaN     Al-Hilal SFC       Razvan Lucescu          NaN   \n",
       "4  18/19     NaN      Al-Nassr FC          Rui Vitória          NaN   \n",
       "\n",
       "        League  \n",
       "0  Yelo League  \n",
       "1  Yelo League  \n",
       "2  Yelo League  \n",
       "3  Yelo League  \n",
       "4  Yelo League  "
      ]
     },
     "execution_count": 92,
     "metadata": {},
     "output_type": "execute_result"
    }
   ],
   "source": [
    "df_f = pd.read_csv(f\"./RAW/ArabicSoccer/Champions/{leagues_prefixs[0]}_Champions.csv\")\n",
    "df_f.head()"
   ]
  },
  {
   "cell_type": "code",
   "execution_count": 93,
   "metadata": {},
   "outputs": [
    {
     "data": {
      "text/html": [
       "<div>\n",
       "<style scoped>\n",
       "    .dataframe tbody tr th:only-of-type {\n",
       "        vertical-align: middle;\n",
       "    }\n",
       "\n",
       "    .dataframe tbody tr th {\n",
       "        vertical-align: top;\n",
       "    }\n",
       "\n",
       "    .dataframe thead th {\n",
       "        text-align: right;\n",
       "    }\n",
       "</style>\n",
       "<table border=\"1\" class=\"dataframe\">\n",
       "  <thead>\n",
       "    <tr style=\"text-align: right;\">\n",
       "      <th></th>\n",
       "      <th>id</th>\n",
       "      <th>Clubs</th>\n",
       "      <th>League</th>\n",
       "      <th>Season</th>\n",
       "    </tr>\n",
       "  </thead>\n",
       "  <tbody>\n",
       "    <tr>\n",
       "      <th>0</th>\n",
       "      <td>1</td>\n",
       "      <td>Al-Ittihad Club</td>\n",
       "      <td>Yelo League</td>\n",
       "      <td>22/23</td>\n",
       "    </tr>\n",
       "    <tr>\n",
       "      <th>1</th>\n",
       "      <td>2</td>\n",
       "      <td>Al-Hilal SFC</td>\n",
       "      <td>Yelo League</td>\n",
       "      <td>21/22</td>\n",
       "    </tr>\n",
       "    <tr>\n",
       "      <th>2</th>\n",
       "      <td>3</td>\n",
       "      <td>Al-Hilal SFC</td>\n",
       "      <td>Yelo League</td>\n",
       "      <td>20/21</td>\n",
       "    </tr>\n",
       "    <tr>\n",
       "      <th>3</th>\n",
       "      <td>4</td>\n",
       "      <td>Al-Hilal SFC</td>\n",
       "      <td>Yelo League</td>\n",
       "      <td>19/20</td>\n",
       "    </tr>\n",
       "    <tr>\n",
       "      <th>4</th>\n",
       "      <td>5</td>\n",
       "      <td>Al-Nassr FC</td>\n",
       "      <td>Yelo League</td>\n",
       "      <td>18/19</td>\n",
       "    </tr>\n",
       "  </tbody>\n",
       "</table>\n",
       "</div>"
      ],
      "text/plain": [
       "   id            Clubs       League Season\n",
       "0   1  Al-Ittihad Club  Yelo League  22/23\n",
       "1   2     Al-Hilal SFC  Yelo League  21/22\n",
       "2   3     Al-Hilal SFC  Yelo League  20/21\n",
       "3   4     Al-Hilal SFC  Yelo League  19/20\n",
       "4   5      Al-Nassr FC  Yelo League  18/19"
      ]
     },
     "execution_count": 93,
     "metadata": {},
     "output_type": "execute_result"
    }
   ],
   "source": [
    "df_champions.head()"
   ]
  },
  {
   "cell_type": "markdown",
   "metadata": {},
   "source": [
    "Transform DataFrames in CSV file and send to Trusted Zone."
   ]
  },
  {
   "cell_type": "code",
   "execution_count": 94,
   "metadata": {},
   "outputs": [],
   "source": [
    "df_attendances.to_csv(f\"./TRUSTED/ArabicSoccer/Attendances/Attendances_SPL_2007_2023.csv\", encoding='utf-8', index=False)\n",
    "df_teams.to_csv(f\"./TRUSTED/ArabicSoccer/Teams/Teams_Arabia.csv\", encoding='utf-8', index=False)\n",
    "df_champions.to_csv(f\"./TRUSTED/ArabicSoccer/Champions/Champions_Arabia_2007_2023.csv\", encoding='utf-8', index=False)"
   ]
  }
 ],
 "metadata": {
  "kernelspec": {
   "display_name": "Python 3",
   "language": "python",
   "name": "python3"
  },
  "language_info": {
   "codemirror_mode": {
    "name": "ipython",
    "version": 3
   },
   "file_extension": ".py",
   "mimetype": "text/x-python",
   "name": "python",
   "nbconvert_exporter": "python",
   "pygments_lexer": "ipython3",
   "version": "3.11.5"
  },
  "orig_nbformat": 4
 },
 "nbformat": 4,
 "nbformat_minor": 2
}
