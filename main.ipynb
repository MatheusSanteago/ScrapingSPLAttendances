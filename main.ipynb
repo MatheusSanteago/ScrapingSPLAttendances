{
 "cells": [
  {
   "cell_type": "markdown",
   "metadata": {},
   "source": [
    "Libs"
   ]
  },
  {
   "cell_type": "code",
   "execution_count": 204,
   "metadata": {},
   "outputs": [],
   "source": [
    "from bs4 import BeautifulSoup\n",
    "import pandas as pd\n",
    "from selenium import webdriver\n",
    "from selenium.webdriver.common.by import By\n",
    "from selenium.webdriver.chrome.options import Options as ChromeOptions\n",
    "from selenium.webdriver.support.ui import WebDriverWait\n",
    "from selenium.webdriver.support import expected_conditions as EC\n",
    "from selenium.common.exceptions import NoSuchElementException\n",
    "import re"
   ]
  },
  {
   "cell_type": "markdown",
   "metadata": {},
   "source": [
    "Global variables"
   ]
  },
  {
   "cell_type": "code",
   "execution_count": 184,
   "metadata": {},
   "outputs": [],
   "source": [
    "chrome_options = ChromeOptions()\n",
    "chrome_options.add_argument(\"--headless=new\")\n",
    "main_df = pd.DataFrame(columns = [\"Stadium\", \"Capacity\", \"Spectators\", \"Average\",\t\"Matches\", \"sold out\", \"Capacity\", \"Club\", \"Year\"])\n",
    "seasons = [2007, 2008, 2009, 2010, 2011, 2012, 2013, 2014, 2015, 2016, 2017, 2018, 2019, 2020, 2021, 2022, 2023]\n",
    "dfs = []\n",
    "# "
   ]
  },
  {
   "cell_type": "markdown",
   "metadata": {},
   "source": [
    "Main function"
   ]
  },
  {
   "cell_type": "code",
   "execution_count": 185,
   "metadata": {},
   "outputs": [],
   "source": [
    "def open_transfermarket():\n",
    "  for i in range(len(seasons)):\n",
    "    url = f'https://www.transfermarkt.com/saudi-pro-league/besucherzahlen/wettbewerb/SA1/saison_id/{seasons[i]}/plus/1'\n",
    "    driver = webdriver.Chrome(options=chrome_options)\n",
    "    driver.get(url)\n",
    "    html = scrapingHTML(driver, i)\n",
    "    #transform_data(html, i)\n",
    "    print(f'Season {seasons[i]} - Scraping done!')"
   ]
  },
  {
   "cell_type": "markdown",
   "metadata": {},
   "source": [
    "Function to get data with Selenium and BS4"
   ]
  },
  {
   "cell_type": "code",
   "execution_count": 186,
   "metadata": {},
   "outputs": [],
   "source": [
    "def scrapingHTML(driver, i):\n",
    "  try:\n",
    "    WebDriverWait(driver, 10).until(EC.frame_to_be_available_and_switch_to_it(driver.find_element(By.ID, \"sp_message_iframe_851946\")))\n",
    "    driver.find_element(By.XPATH,\"//*[@id='notice']/div[3]/div[3]/button\").click()\n",
    "  except NoSuchElementException as exc:\n",
    "    pass\n",
    "  \n",
    "  table = driver.find_element(By.XPATH, '//*[@id=\"yw1\"]/table')\n",
    "  data = table.get_attribute('outerHTML')\n",
    "  soup = BeautifulSoup(data, 'html.parser')\n",
    "  html = soup.find(name='table')\n",
    "  df = pd.read_html(str(html))[0]\n",
    "  df[\"Club\"] = \"\"\n",
    "  df[\"Year\"] = seasons[i]\n",
    "  dfs.append(df)\n",
    "  driver.quit()\n",
    "  return html"
   ]
  },
  {
   "cell_type": "markdown",
   "metadata": {},
   "source": [
    "Function to Transform data"
   ]
  },
  {
   "cell_type": "code",
   "execution_count": 187,
   "metadata": {},
   "outputs": [],
   "source": [
    "def transform_data(html, i):\n",
    "  df = pd.read_html(str(html))[0]\n",
    "  df = df[df['#'] >= 1]\n",
    "  df = df[[\"Stadium\", \"Capacity\", \"Spectators\", \"Average\", \"Matches\", \"sold out\", \"Capacity\"]]\n",
    "  df[\"Club\"] = \"\"\n",
    "  df[\"Year\"] = seasons[i]\n",
    "\n",
    "  ptn = \"\\B[ANH][Llab][-]?[a-zA-Z]+(?:-[a-zA-Z]+)?\\s?[SFClub]{1,4}\"\n",
    "  \n",
    "  for i in range(len(df)):\n",
    "    if df.iloc[i, 0][0:23] == \"Prince Mohammed bin Abd\":\n",
    "      df.iloc[i, 7] = \"Al-Ansar/Ohod Club\"\n",
    "      df.iloc[i, 0] = \"Prince Mohammed bin Abdul Aziz Stadium\"\n",
    "    elif df.iloc[i, 0] == \"Damac Club StadiumDamac FC\":\n",
    "      df.iloc[i, 7] = \"Damac FC\"\n",
    "      df.iloc[i, 0] = \"Damac Club Stadium\"\n",
    "    else:\n",
    "      df.iloc[i, 7] = re.findall(pattern=ptn, string=df.iloc[i, 0])[0]\n",
    "      df.iloc[i, 0] = re.sub(pattern=ptn, string=df.iloc[i, 0], repl=\"\")\n",
    "\n",
    "  dfs.append(df)"
   ]
  },
  {
   "cell_type": "markdown",
   "metadata": {},
   "source": [
    "Executando "
   ]
  },
  {
   "cell_type": "code",
   "execution_count": 188,
   "metadata": {},
   "outputs": [
    {
     "name": "stdout",
     "output_type": "stream",
     "text": [
      "Season 2007 - Scraping done!\n",
      "Season 2008 - Scraping done!\n",
      "Season 2009 - Scraping done!\n",
      "Season 2010 - Scraping done!\n",
      "Season 2011 - Scraping done!\n",
      "Season 2012 - Scraping done!\n",
      "Season 2013 - Scraping done!\n",
      "Season 2014 - Scraping done!\n",
      "Season 2015 - Scraping done!\n",
      "Season 2016 - Scraping done!\n",
      "Season 2017 - Scraping done!\n",
      "Season 2018 - Scraping done!\n",
      "Season 2019 - Scraping done!\n",
      "Season 2020 - Scraping done!\n",
      "Season 2021 - Scraping done!\n",
      "Season 2022 - Scraping done!\n",
      "Season 2023 - Scraping done!\n"
     ]
    }
   ],
   "source": [
    "open_transfermarket()"
   ]
  },
  {
   "cell_type": "code",
   "execution_count": 197,
   "metadata": {},
   "outputs": [],
   "source": [
    "df_og = pd.concat(dfs)\n"
   ]
  },
  {
   "cell_type": "code",
   "execution_count": 194,
   "metadata": {},
   "outputs": [],
   "source": [
    "df_og = pd.concat(dfs)\n",
    "df_og = df_og.reset_index()\n",
    "df_og[\"index\"] = df_og.index + 1\n",
    "df_og['Matches'] = pd.to_numeric(df_og['Matches'], downcast='integer', errors='coerce')"
   ]
  },
  {
   "cell_type": "code",
   "execution_count": 206,
   "metadata": {},
   "outputs": [
    {
     "data": {
      "text/html": [
       "<div>\n",
       "<style scoped>\n",
       "    .dataframe tbody tr th:only-of-type {\n",
       "        vertical-align: middle;\n",
       "    }\n",
       "\n",
       "    .dataframe tbody tr th {\n",
       "        vertical-align: top;\n",
       "    }\n",
       "\n",
       "    .dataframe thead th {\n",
       "        text-align: right;\n",
       "    }\n",
       "</style>\n",
       "<table border=\"1\" class=\"dataframe\">\n",
       "  <thead>\n",
       "    <tr style=\"text-align: right;\">\n",
       "      <th></th>\n",
       "      <th>#</th>\n",
       "      <th>Stadium</th>\n",
       "      <th>Capacity</th>\n",
       "      <th>Spectators</th>\n",
       "      <th>Average</th>\n",
       "      <th>Matches</th>\n",
       "      <th>sold out</th>\n",
       "      <th>Capacity.1</th>\n",
       "      <th>Club</th>\n",
       "      <th>Year</th>\n",
       "    </tr>\n",
       "  </thead>\n",
       "  <tbody>\n",
       "    <tr>\n",
       "      <th>0</th>\n",
       "      <td>1.0</td>\n",
       "      <td>King Abdullah Sports CityAl-Ittihad Club</td>\n",
       "      <td>62.345</td>\n",
       "      <td>27.0</td>\n",
       "      <td>27.000</td>\n",
       "      <td>1.0</td>\n",
       "      <td>-</td>\n",
       "      <td>43.3 %</td>\n",
       "      <td></td>\n",
       "      <td>2007</td>\n",
       "    </tr>\n",
       "    <tr>\n",
       "      <th>1</th>\n",
       "      <td>NaN</td>\n",
       "      <td>King Abdullah Sports City</td>\n",
       "      <td>NaN</td>\n",
       "      <td>NaN</td>\n",
       "      <td>NaN</td>\n",
       "      <td>NaN</td>\n",
       "      <td>NaN</td>\n",
       "      <td>NaN</td>\n",
       "      <td></td>\n",
       "      <td>2007</td>\n",
       "    </tr>\n",
       "    <tr>\n",
       "      <th>2</th>\n",
       "      <td>NaN</td>\n",
       "      <td>Al-Ittihad Club</td>\n",
       "      <td>NaN</td>\n",
       "      <td>NaN</td>\n",
       "      <td>NaN</td>\n",
       "      <td>NaN</td>\n",
       "      <td>NaN</td>\n",
       "      <td>NaN</td>\n",
       "      <td></td>\n",
       "      <td>2007</td>\n",
       "    </tr>\n",
       "    <tr>\n",
       "      <th>3</th>\n",
       "      <td>2.0</td>\n",
       "      <td>King Fahd International StadiumAl-Hilal SFC</td>\n",
       "      <td>68.752</td>\n",
       "      <td>0.0</td>\n",
       "      <td>0.000</td>\n",
       "      <td>0.0</td>\n",
       "      <td>-</td>\n",
       "      <td>%</td>\n",
       "      <td></td>\n",
       "      <td>2007</td>\n",
       "    </tr>\n",
       "    <tr>\n",
       "      <th>4</th>\n",
       "      <td>NaN</td>\n",
       "      <td>King Fahd International Stadium</td>\n",
       "      <td>NaN</td>\n",
       "      <td>NaN</td>\n",
       "      <td>NaN</td>\n",
       "      <td>NaN</td>\n",
       "      <td>NaN</td>\n",
       "      <td>NaN</td>\n",
       "      <td></td>\n",
       "      <td>2007</td>\n",
       "    </tr>\n",
       "    <tr>\n",
       "      <th>...</th>\n",
       "      <td>...</td>\n",
       "      <td>...</td>\n",
       "      <td>...</td>\n",
       "      <td>...</td>\n",
       "      <td>...</td>\n",
       "      <td>...</td>\n",
       "      <td>...</td>\n",
       "      <td>...</td>\n",
       "      <td>...</td>\n",
       "      <td>...</td>\n",
       "    </tr>\n",
       "    <tr>\n",
       "      <th>50</th>\n",
       "      <td>NaN</td>\n",
       "      <td>Al-Okhdood Club</td>\n",
       "      <td>NaN</td>\n",
       "      <td>NaN</td>\n",
       "      <td>NaN</td>\n",
       "      <td>NaN</td>\n",
       "      <td>NaN</td>\n",
       "      <td>NaN</td>\n",
       "      <td></td>\n",
       "      <td>2023</td>\n",
       "    </tr>\n",
       "    <tr>\n",
       "      <th>51</th>\n",
       "      <td>18.0</td>\n",
       "      <td>Damac Club StadiumDamac FC</td>\n",
       "      <td>5.000</td>\n",
       "      <td>2.227</td>\n",
       "      <td>1.114</td>\n",
       "      <td>2.0</td>\n",
       "      <td>-</td>\n",
       "      <td>22.3 %</td>\n",
       "      <td></td>\n",
       "      <td>2023</td>\n",
       "    </tr>\n",
       "    <tr>\n",
       "      <th>52</th>\n",
       "      <td>NaN</td>\n",
       "      <td>Damac Club Stadium</td>\n",
       "      <td>NaN</td>\n",
       "      <td>NaN</td>\n",
       "      <td>NaN</td>\n",
       "      <td>NaN</td>\n",
       "      <td>NaN</td>\n",
       "      <td>NaN</td>\n",
       "      <td></td>\n",
       "      <td>2023</td>\n",
       "    </tr>\n",
       "    <tr>\n",
       "      <th>53</th>\n",
       "      <td>NaN</td>\n",
       "      <td>Damac FC</td>\n",
       "      <td>NaN</td>\n",
       "      <td>NaN</td>\n",
       "      <td>NaN</td>\n",
       "      <td>NaN</td>\n",
       "      <td>NaN</td>\n",
       "      <td>NaN</td>\n",
       "      <td></td>\n",
       "      <td>2023</td>\n",
       "    </tr>\n",
       "    <tr>\n",
       "      <th>54</th>\n",
       "      <td>NaN</td>\n",
       "      <td>Total:</td>\n",
       "      <td>0.000</td>\n",
       "      <td>395.754</td>\n",
       "      <td>8.794</td>\n",
       "      <td>45.0</td>\n",
       "      <td>0</td>\n",
       "      <td>33.8 %</td>\n",
       "      <td></td>\n",
       "      <td>2023</td>\n",
       "    </tr>\n",
       "  </tbody>\n",
       "</table>\n",
       "<p>746 rows × 10 columns</p>\n",
       "</div>"
      ],
      "text/plain": [
       "       #                                      Stadium  Capacity Spectators  \\\n",
       "0    1.0     King Abdullah Sports CityAl-Ittihad Club    62.345       27.0   \n",
       "1    NaN                    King Abdullah Sports City       NaN        NaN   \n",
       "2    NaN                              Al-Ittihad Club       NaN        NaN   \n",
       "3    2.0  King Fahd International StadiumAl-Hilal SFC    68.752        0.0   \n",
       "4    NaN              King Fahd International Stadium       NaN        NaN   \n",
       "..   ...                                          ...       ...        ...   \n",
       "50   NaN                              Al-Okhdood Club       NaN        NaN   \n",
       "51  18.0                   Damac Club StadiumDamac FC     5.000      2.227   \n",
       "52   NaN                           Damac Club Stadium       NaN        NaN   \n",
       "53   NaN                                     Damac FC       NaN        NaN   \n",
       "54   NaN                                       Total:     0.000    395.754   \n",
       "\n",
       "    Average  Matches sold out Capacity.1 Club  Year  \n",
       "0    27.000      1.0        -     43.3 %       2007  \n",
       "1       NaN      NaN      NaN        NaN       2007  \n",
       "2       NaN      NaN      NaN        NaN       2007  \n",
       "3     0.000      0.0        -          %       2007  \n",
       "4       NaN      NaN      NaN        NaN       2007  \n",
       "..      ...      ...      ...        ...  ...   ...  \n",
       "50      NaN      NaN      NaN        NaN       2023  \n",
       "51    1.114      2.0        -     22.3 %       2023  \n",
       "52      NaN      NaN      NaN        NaN       2023  \n",
       "53      NaN      NaN      NaN        NaN       2023  \n",
       "54    8.794     45.0        0     33.8 %       2023  \n",
       "\n",
       "[746 rows x 10 columns]"
      ]
     },
     "execution_count": 206,
     "metadata": {},
     "output_type": "execute_result"
    }
   ],
   "source": [
    "df_og"
   ]
  },
  {
   "cell_type": "code",
   "execution_count": 205,
   "metadata": {},
   "outputs": [],
   "source": [
    "df_og.to_csv(\"Arabic_Attendences_2007_2023.csv\", encoding='utf-8', index=False)"
   ]
  }
 ],
 "metadata": {
  "kernelspec": {
   "display_name": "Python 3",
   "language": "python",
   "name": "python3"
  },
  "language_info": {
   "codemirror_mode": {
    "name": "ipython",
    "version": 3
   },
   "file_extension": ".py",
   "mimetype": "text/x-python",
   "name": "python",
   "nbconvert_exporter": "python",
   "pygments_lexer": "ipython3",
   "version": "3.11.5"
  },
  "orig_nbformat": 4
 },
 "nbformat": 4,
 "nbformat_minor": 2
}
