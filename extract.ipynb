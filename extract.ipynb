{
 "cells": [
  {
   "cell_type": "markdown",
   "metadata": {},
   "source": [
    "Libs"
   ]
  },
  {
   "cell_type": "code",
   "execution_count": 210,
   "metadata": {},
   "outputs": [],
   "source": [
    "from bs4 import BeautifulSoup\n",
    "import pandas as pd\n",
    "from selenium import webdriver\n",
    "from selenium.webdriver.common.by import By\n",
    "from selenium.webdriver.chrome.options import Options as ChromeOptions\n",
    "from selenium.webdriver.support.ui import WebDriverWait\n",
    "from selenium.webdriver.support import expected_conditions as EC\n",
    "from selenium.common.exceptions import NoSuchElementException\n",
    "import re"
   ]
  },
  {
   "cell_type": "markdown",
   "metadata": {},
   "source": [
    "Global variables"
   ]
  },
  {
   "cell_type": "code",
   "execution_count": 211,
   "metadata": {},
   "outputs": [],
   "source": [
    "chrome_options = ChromeOptions()\n",
    "chrome_options.add_argument(\"--headless=new\")\n",
    "main_df = pd.DataFrame(columns = [\"Stadium\", \"Capacity\", \"Spectators\", \"Average\",\t\"Matches\", \"sold out\", \"Capacity\", \"Club\", \"Year\"])\n",
    "seasons = [2007, 2008, 2009, 2010, 2011, 2012, 2013, 2014, 2015, 2016, 2017, 2018, 2019, 2020, 2021, 2022, 2023]\n",
    "dfs = []"
   ]
  },
  {
   "cell_type": "markdown",
   "metadata": {},
   "source": [
    "Main function"
   ]
  },
  {
   "cell_type": "code",
   "execution_count": 212,
   "metadata": {},
   "outputs": [],
   "source": [
    "def open_transfermarket_attendences():\n",
    "  for i in range(len(seasons)):\n",
    "    url = f'https://www.transfermarkt.com/saudi-pro-league/besucherzahlen/wettbewerb/SA1/saison_id/{seasons[i]}/plus/1'\n",
    "    driver = webdriver.Chrome(options=chrome_options)\n",
    "    driver.get(url)\n",
    "    html = scrapingHTML(driver, i)\n",
    "    print(f'Season {seasons[i]} - Scraping done!')"
   ]
  },
  {
   "cell_type": "markdown",
   "metadata": {},
   "source": [
    "Function to get data with Selenium and BS4"
   ]
  },
  {
   "cell_type": "code",
   "execution_count": 213,
   "metadata": {},
   "outputs": [],
   "source": [
    "def scrapingHTML(driver, i):\n",
    "  try:\n",
    "    WebDriverWait(driver, 10).until(EC.frame_to_be_available_and_switch_to_it(driver.find_element(By.ID, \"sp_message_iframe_851946\")))\n",
    "    driver.find_element(By.XPATH,\"//*[@id='notice']/div[3]/div[3]/button\").click()\n",
    "  except NoSuchElementException as exc:\n",
    "    pass\n",
    "  \n",
    "  table = driver.find_element(By.XPATH, '//*[@id=\"yw1\"]/table')\n",
    "  data = table.get_attribute('outerHTML')\n",
    "  soup = BeautifulSoup(data, 'html.parser')\n",
    "  html = soup.find(name='table')\n",
    "  df = pd.read_html(str(html))[0]\n",
    "  df[\"Club\"] = \"\"\n",
    "  df[\"Year\"] = seasons[i]\n",
    "  dfs.append(df)\n",
    "  driver.quit()\n",
    "  return html"
   ]
  },
  {
   "cell_type": "markdown",
   "metadata": {},
   "source": [
    "Executation "
   ]
  },
  {
   "cell_type": "code",
   "execution_count": 215,
   "metadata": {},
   "outputs": [
    {
     "name": "stdout",
     "output_type": "stream",
     "text": [
      "Season 2007 - Scraping done!\n",
      "Season 2008 - Scraping done!\n",
      "Season 2009 - Scraping done!\n",
      "Season 2010 - Scraping done!\n",
      "Season 2011 - Scraping done!\n",
      "Season 2012 - Scraping done!\n",
      "Season 2013 - Scraping done!\n",
      "Season 2014 - Scraping done!\n",
      "Season 2015 - Scraping done!\n",
      "Season 2016 - Scraping done!\n",
      "Season 2017 - Scraping done!\n",
      "Season 2018 - Scraping done!\n",
      "Season 2019 - Scraping done!\n",
      "Season 2020 - Scraping done!\n",
      "Season 2021 - Scraping done!\n",
      "Season 2022 - Scraping done!\n",
      "Season 2023 - Scraping done!\n"
     ]
    }
   ],
   "source": [
    "open_transfermarket_attendences()"
   ]
  },
  {
   "cell_type": "markdown",
   "metadata": {},
   "source": [
    "Concat DataFrame list and create CSV"
   ]
  },
  {
   "cell_type": "code",
   "execution_count": 2,
   "metadata": {},
   "outputs": [
    {
     "ename": "NameError",
     "evalue": "name 'pd' is not defined",
     "output_type": "error",
     "traceback": [
      "\u001b[1;31m---------------------------------------------------------------------------\u001b[0m",
      "\u001b[1;31mNameError\u001b[0m                                 Traceback (most recent call last)",
      "\u001b[1;32md:\\Data-1\\ScrapingSaudiLeagueAttendances\\extract.ipynb Cell 12\u001b[0m line \u001b[0;36m1\n\u001b[1;32m----> <a href='vscode-notebook-cell:/d%3A/Data-1/ScrapingSaudiLeagueAttendances/extract.ipynb#X14sZmlsZQ%3D%3D?line=0'>1</a>\u001b[0m df_og \u001b[39m=\u001b[39m pd\u001b[39m.\u001b[39mconcat(dfs)\n\u001b[0;32m      <a href='vscode-notebook-cell:/d%3A/Data-1/ScrapingSaudiLeagueAttendances/extract.ipynb#X14sZmlsZQ%3D%3D?line=1'>2</a>\u001b[0m df_og\u001b[39m.\u001b[39mto_csv(\u001b[39m\"\u001b[39m\u001b[39m./RAW/ArabicSoccer/Attendances/Arabic_Attendances_2007_2023.csv\u001b[39m\u001b[39m\"\u001b[39m, encoding\u001b[39m=\u001b[39m\u001b[39m'\u001b[39m\u001b[39mutf-8\u001b[39m\u001b[39m'\u001b[39m, index\u001b[39m=\u001b[39m\u001b[39mFalse\u001b[39;00m)\n",
      "\u001b[1;31mNameError\u001b[0m: name 'pd' is not defined"
     ]
    }
   ],
   "source": [
    "df_og = pd.concat(dfs)\n",
    "df_og.to_csv(\"./RAW/ArabicSoccer/Attendances/Arabic_Attendances_2007_2023.csv\", encoding='utf-8', index=False)"
   ]
  },
  {
   "cell_type": "markdown",
   "metadata": {},
   "source": [
    "Extract Teams info"
   ]
  },
  {
   "cell_type": "code",
   "execution_count": 250,
   "metadata": {},
   "outputs": [],
   "source": [
    "arabic_leagues = [\"SA1\", \"SA2L\"]\n",
    "\n",
    "for i in range(len(arabic_leagues)):\n",
    "  url = f\"https://www.transfermarkt.us/saudi-pro-league/startseite/wettbewerb/{arabic_leagues[i]}\"\n",
    "  driver = webdriver.Chrome(options=chrome_options)\n",
    "  driver.get(url)\n",
    "\n",
    "  try:\n",
    "      WebDriverWait(driver, 10).until(EC.frame_to_be_available_and_switch_to_it(driver.find_element(By.ID, \"sp_message_iframe_851946\")))\n",
    "      driver.find_element(By.XPATH,\"//*[@id='notice']/div[3]/div[3]/button\").click()\n",
    "  except NoSuchElementException as exc:\n",
    "    pass\n",
    "\n",
    "  table = driver.find_element(By.XPATH, '//*[@id=\"yw1\"]/table')\n",
    "  data = table.get_attribute('outerHTML')\n",
    "  soup = BeautifulSoup(data, 'html.parser')\n",
    "  html = soup.find(name='table')\n",
    "  df = pd.read_html(str(html))[0]\n",
    "  df.to_csv(f\"./RAW/ArabicSoccer/Teams/{arabic_leagues[i]}_teams_2023.csv\", encoding='utf-8', index=False)"
   ]
  },
  {
   "cell_type": "markdown",
   "metadata": {},
   "source": [
    "Extract All Champions - SPL"
   ]
  },
  {
   "cell_type": "code",
   "execution_count": 251,
   "metadata": {},
   "outputs": [],
   "source": [
    "for i in range(len(arabic_leagues)):\n",
    "  url = \"https://www.transfermarkt.us/saudi-professional-league/erfolge/wettbewerb/SA1\"\n",
    "  driver = webdriver.Chrome(options=chrome_options)\n",
    "  driver.get(url)\n",
    "\n",
    "  try:\n",
    "      WebDriverWait(driver, 10).until(EC.frame_to_be_available_and_switch_to_it(driver.find_element(By.ID, \"sp_message_iframe_851946\")))\n",
    "      driver.find_element(By.XPATH,\"//*[@id='notice']/div[3]/div[3]/button\").click()\n",
    "  except NoSuchElementException as exc:\n",
    "    pass\n",
    "\n",
    "  table = driver.find_element(By.XPATH, '//*[@id=\"yw1\"]/table')\n",
    "  data = table.get_attribute('outerHTML')\n",
    "  soup = BeautifulSoup(data, 'html.parser')\n",
    "  html = soup.find(name='table')\n",
    "  df = pd.read_html(str(html))[0]\n",
    "  df.to_csv(f\"./RAW/ArabicSoccer/Champions/SA1_Champions.csv\", encoding='utf-8', index=False)"
   ]
  }
 ],
 "metadata": {
  "kernelspec": {
   "display_name": "Python 3",
   "language": "python",
   "name": "python3"
  },
  "language_info": {
   "codemirror_mode": {
    "name": "ipython",
    "version": 3
   },
   "file_extension": ".py",
   "mimetype": "text/x-python",
   "name": "python",
   "nbconvert_exporter": "python",
   "pygments_lexer": "ipython3",
   "version": "3.11.5"
  },
  "orig_nbformat": 4
 },
 "nbformat": 4,
 "nbformat_minor": 2
}
